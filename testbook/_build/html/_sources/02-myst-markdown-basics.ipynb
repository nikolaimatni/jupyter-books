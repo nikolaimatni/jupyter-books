{
 "cells": [
  {
   "cell_type": "markdown",
   "id": "22de5ab6",
   "metadata": {},
   "source": [
    "---\n",
    "title: MyST Markdown Basics\n",
    "subtitle: In JupyterLab\n",
    "license: CC-BY-4.0\n",
    "github: https://github.com/executablebooks/mystjs\n",
    "subject: Tutorial\n",
    "venue: MyST Markdown\n",
    "biblio:\n",
    "  volume: '1'\n",
    "  issue: '42'\n",
    "authors:\n",
    "  - name: Rowan Cockett\n",
    "    email: rowan@curvenote.com\n",
    "    corresponding: true\n",
    "    orcid: 0000-0002-7859-8394\n",
    "    affiliations:\n",
    "      - Curvenote\n",
    "      - ExecutableBooks\n",
    "date: 2023/07/05\n",
    "math:\n",
    "  '\\dobs': '\\mathbf{d}_\\text{obs}'\n",
    "  '\\dpred': '\\mathbf{d}_\\text{pred}\\left( #1 \\right)'\n",
    "  '\\mref': '\\mathbf{m}_\\text{ref}'\n",
    "abbreviations:\n",
    "    MyST: Markedly Structured Text\n",
    "---"
   ]
  },
  {
   "cell_type": "markdown",
   "id": "4c6c08c2",
   "metadata": {},
   "source": [
    "MyST is an ecosystem of open-source, community-driven tools designed to revolutionize scientific communication. MyST supports blogs, online books, scientific papers, reports and journals articles.\n",
    "\n",
    "::::{important} Objective\n",
    "\n",
    "The goal of this quickstart is to get you up and running in JupyterLab with MyST Markdown and provide an editable example of many of the features available in MyST Markdown.\n",
    "\n",
    "For a full tutorial on MyST Markdown see the [MyST Markdown Guide](https://mystmd.org/guide/quickstart-myst-markdown) which provides more depth on syntax and pointers to other resources.\n",
    "::::"
   ]
  },
  {
   "cell_type": "markdown",
   "id": "39237b64",
   "metadata": {},
   "source": [
    "## Editing Markdown Cells\n",
    "\n",
    "Working with markdown cells is exactly the same as normal in Jupyter, try taking a look at the source of this cell.\n",
    "\n",
    "🛠 Double click to edit this cell, then type `Shift-Enter` to re-render the cell\n",
    "\n",
    ":::{warning} Let's start with Callouts! 💬\n",
    ":class: dropdown\n",
    "\n",
    "This is a callout (or admonition) in MyST, there are a few variants available including `{note}`, `{important}`, and `{warning}`.\n",
    "You can find the [full documentation for callouts here](https://mystmd.org/guide/admonitions).\n",
    ":::\n",
    "\n",
    "To change the style of the callout, try changing it to a `{note}`\n",
    "\n",
    "🛠 Edit the callout in this cell to `{note}` instead of a `{tip}`\n",
    "\n",
    "You can also add [directive options](https://mystmd.org/guide/syntax-overview#directives), with a `:class: dropdown` as the first line of the directive. Adding the dropdown class will turn this callout into a dropdown that is initially hidden, which is great for hiding solutions in JupyterLab for students, for example!"
   ]
  },
  {
   "cell_type": "markdown",
   "id": "e88276e6",
   "metadata": {},
   "source": [
    "## Figures & Cross References\n",
    "\n",
    "MyST has support for figures, images and rich cross-references to preview the figures when you hover over a reference.\n",
    "\n",
    "🛠 Double click the next cell to see the MyST `{figure}` syntax"
   ]
  },
  {
   "cell_type": "markdown",
   "id": "90807499",
   "metadata": {},
   "source": [
    "```{figure} https://source.unsplash.com/random/800x200?beach\n",
    ":name: beach\n",
    ":align: left\n",
    ":width: 90%\n",
    "Relaxing at the beach 🏖\n",
    "```"
   ]
  },
  {
   "cell_type": "markdown",
   "id": "458e6393",
   "metadata": {},
   "source": [
    "You can reference a figure with a markdown link to the name of the figure, for example, `[](#beach)`.\n",
    "\n",
    "🛠 Hover the cross-references to the figures\n",
    "\n",
    "In [](#beach) we can (hopefully) see someone enjoying the beach, and in [](#fruit) we can see fruit! These figures are also automatically numbered, and will update based on their position in the document.\n",
    "\n",
    "🛠 Drag the markdown cell with fruit up to make it `Figure 1`\n",
    "\n",
    "Both the caption number and all references to those cells will update instantly! ⚡️"
   ]
  },
  {
   "cell_type": "markdown",
   "id": "d76dbfe1",
   "metadata": {},
   "source": [
    "```{figure} https://source.unsplash.com/random/800x200?fruit\n",
    ":name: fruit\n",
    ":align: left\n",
    ":width: 90%\n",
    "A random picture of fruit 🍎🍊\n",
    "```"
   ]
  },
  {
   "cell_type": "markdown",
   "id": "7657a036",
   "metadata": {},
   "source": [
    "::::{seealso} See the MyST Markdown Documentation\n",
    ":class: dropdown\n",
    "\n",
    ":::{card} 📖 Images & Figures\n",
    ":link: https://mystmd.org/guide/figures\n",
    "MyST Markdown can be used to include images and figures in your documents as well as referencing those images easily throughout your website, article or paper.\n",
    ":::\n",
    "\n",
    ":::{card} 📖 Cross-References\n",
    ":link: https://mystmd.org/guide/cross-references\n",
    "References refer to labeled content (e.g. a figure, document or table) and automatically generates links and extra information, like numbering.\n",
    ":::\n",
    "::::"
   ]
  },
  {
   "cell_type": "markdown",
   "id": "ef1ede7c",
   "metadata": {},
   "source": [
    "## Equations\n",
    "\n",
    "All of the standard markdown syntax for equations will also work with the MyST renderer. The easiest way to create math is to use the dollar-syntax, for example, for inline math:\\\n",
    "`$Ax=b_i$` will become $Ax=b_i$"
   ]
  },
  {
   "cell_type": "markdown",
   "id": "439fea9e",
   "metadata": {},
   "source": [
    "$$\n",
    "\\label{maxwell}\n",
    "\\begin{aligned}\n",
    "\\nabla \\times \\vec{e}+\\frac{\\partial \\vec{b}}{\\partial t}&=0 \\\\\n",
    "\\nabla \\times \\vec{h}-\\vec{j}&=\\vec{s}\\_{e}\n",
    "\\end{aligned}\n",
    "$$"
   ]
  },
  {
   "cell_type": "markdown",
   "id": "b76405e3",
   "metadata": {},
   "source": [
    "You can also now label and reference your equations, this is using a $\\LaTeX$ style `\\label{}` in the dollar-math block[^math-directives]:\n",
    "\n",
    "🛠 Double click this cell to see the label syntax\n",
    "\n",
    "$$\n",
    "\\label{cross}\n",
    "\\mathbf{u} \\times \\mathbf{v}=\\left|\\begin{array}{ll}u_{2} & u_{3} \\\\ v_{2} & v_{3}\\end{array}\\right| \\mathbf{i}+\\left|\\begin{array}{ll}u_{3} & u_{1} \\\\ v_{3} & v_{1}\\end{array}\\right| \\mathbf{j}+\\left|\\begin{array}{ll}u_{1} & u_{2} \\\\ v_{1} & v_{2}\\end{array}\\right| \\mathbf{k}\n",
    "$$\n",
    "\n",
    "Similar to figures, you can link to the equation using a markdown link and they will be auto-labeled.\n",
    "\n",
    "🛠 Hover the cross-references to the equation\n",
    "\n",
    "> In [](#cross) you can see a cross-product or [Equation %s](#maxwell) is [Maxwell's equations](https://en.wikipedia.org/wiki/Maxwells_equations)\n",
    "\n",
    "[^math-directives]: You can also use math as a \"directive\" -- see the [MyST docs on math](https://mystmd.org/guide/math#math-directives).\n",
    "\n",
    "Similar to the figures, these equations are auto numbered.\n",
    "\n",
    "🛠 Drag the markdown cell with Maxwell's equations up to make it Equation 1"
   ]
  },
  {
   "cell_type": "markdown",
   "id": "aafba0e4",
   "metadata": {},
   "source": [
    "::::{seealso} See the MyST Markdown Documentation\n",
    ":class: dropdown\n",
    "\n",
    ":::{card} 📖 Math and equations\n",
    ":link: https://mystmd.org/guide/math\n",
    "There are several ways to make writing math in your documents as familiar as possible. Math can either be (1) inline or (2) displayed as an equation block. In addition to the usual MyST syntax, you can also use \"dollar math\", which is derived from LaTeX and surrounds inline math with single dollar signs (`$`), and equation blocks with two dollar signs (`$$`). \n",
    ":::\n",
    "\n",
    "::::"
   ]
  },
  {
   "cell_type": "markdown",
   "id": "942b9b20",
   "metadata": {},
   "source": [
    "## External References\n",
    "\n",
    "MyST Markdown creates _structured_ documents that are linked to other sources, which allows us to preview directly in the editing experience. \n",
    "\n",
    "---\n",
    "\n",
    "You can link to any **Wikipedia** article and it will show a tooltip inline, for example, we linked to [Maxwell's equations](https://en.wikipedia.org/wiki/Maxwells_equations) above!\n",
    "\n",
    "🛠 Using the short-hand `wiki:` link, add a link to a Wikipedia article\n",
    "\n",
    "[](wiki:Geophysics)\n",
    "\n",
    "---\n",
    "\n",
    "You can also link to **GitHub** issues, pull requests and even code. Just paste the link in and MyST will provide a linked preview.\n",
    "\n",
    "> For example, when we migrated to support JupyterLab 4.0, we did some work in [#142](https://github.com/executablebooks/jupyterlab-myst/pull/142). Some of the pipeline for MyST uses unifiedjs, and can be [seen here](https://github.com/executablebooks/jupyterlab-myst/blob/45155d53a69a02fb998db3b083dc396dc0ba57a9/src/myst.ts#L114-L124) as a series of plugins.\n",
    "\n",
    "🛠 Follow the link to the code, copy a new permalink to a different line and paste it below!"
   ]
  },
  {
   "cell_type": "markdown",
   "id": "d4cb8360",
   "metadata": {},
   "source": [
    "::::{seealso} See the MyST Markdown Documentation\n",
    ":class: dropdown\n",
    "\n",
    ":::{card} 📖 External References\n",
    ":link: https://mystmd.org/guide/external-references\n",
    "MyST Markdown allows you to connect your documents to external linked content like Wikipedia, which allow for hover-references with external content. External references are references to structured content or documents that are outside of your project.\n",
    ":::\n",
    "\n",
    "::::"
   ]
  },
  {
   "cell_type": "markdown",
   "id": "31805f9a",
   "metadata": {},
   "source": [
    "# Task Lists\n",
    "\n",
    "Jupyter already can render tasks, but you can't edit them when you are working through something -- but you can in MyST!\n",
    "\n",
    "🛠 Try editing a task below and see the markdown change\n",
    "\n",
    ":::{important} Steps to revolutionize technical communication 🚀\n",
    "- [x] Make tasklists work with JupyterLab\n",
    "- [ ] Give an awesome webinar on very little sleep ☕️\n",
    "- [ ] Create a community around MyST\n",
    "- [ ] Probably other things 🤔\n",
    "- [ ] Revolutionize technical communication\n",
    ":::"
   ]
  },
  {
   "cell_type": "markdown",
   "id": "f95f9a79",
   "metadata": {},
   "source": [
    "## Next Up\n",
    "\n",
    "There are a few other nifty things that you can do with MyST Markdown below. You can also see all of the live demos in the documentation at <https://mystmd.org/guide>. That is it for this quickstart tutorial, next up we will take a look at actually using a bit of Jupyter with inline execuation and widgets!\n",
    "\n",
    ":::{card} 🪐 Inline Execution\n",
    ":link: ./03-inline-interactivity.ipynb\n",
    "You can use the `{eval}` role to evaluate variables directly inside of your markdown cells, including widgets, sparklines and other variables.\n",
    ":::"
   ]
  },
  {
   "cell_type": "markdown",
   "id": "a3fef058",
   "metadata": {},
   "source": [
    "## Diagrams\n",
    "\n",
    "We have included a few other things in this notebook so that you can explore, for example mermaid diagrams!\n",
    "\n",
    "```{mermaid}\n",
    "flowchart LR\n",
    "  A[Jupyter Notebook] --> C\n",
    "  B[MyST Markdown] --> C\n",
    "  C(mystmd) --> D{AST}\n",
    "  D <--> E[LaTeX]\n",
    "  E --> F[PDF]\n",
    "  D --> G[Word]\n",
    "  D --> H[React]\n",
    "  D --> I[HTML]\n",
    "  D <--> J[JATS]\n",
    "```"
   ]
  },
  {
   "cell_type": "markdown",
   "id": "01632dc9",
   "metadata": {},
   "source": [
    "## Proofs\n",
    "\n",
    "You can add an reference proofs ([](#weyls-criterion)). See the [docs](https://mystmd.org/guide/proofs-and-theorems).\n",
    "\n",
    ":::{prf:criterion} Weyl's criterion\n",
    ":label: weyls-criterion\n",
    "\n",
    "Weyl's criterion states that the sequence $a_n$ is equidistributed modulo $1$ if\n",
    "and only if for all non-zero integers $m$,\n",
    "\n",
    "```{math}\n",
    "\\lim_{n \\rightarrow \\infty} \\frac{1}{n} \\sum_{j=1}^{n} \\exp^{2 \\pi i m a_j} = 0\n",
    "```\n",
    ":::"
   ]
  },
  {
   "cell_type": "markdown",
   "id": "e9babcd0",
   "metadata": {},
   "source": [
    "## Solutions and Exercises\n",
    "\n",
    "See the [docs](https://mystmd.org/guide/exercises)\n",
    "\n",
    "```{exercise}\n",
    ":label: my-exercise\n",
    "\n",
    "Recall that $n!$ is read as \"$n$ factorial\" and defined as\n",
    "$n! = n \\times (n - 1) \\times \\cdots \\times 2 \\times 1$.\n",
    "\n",
    "There are functions to compute this in various modules, but let's\n",
    "write our own version as an exercise.\n",
    "\n",
    "In particular, write a function `factorial` such that `factorial(n)` returns $n!$\n",
    "for any positive integer $n$.\n",
    "```\n",
    "\n",
    "````{solution} my-exercise\n",
    ":label: my-solution\n",
    "\n",
    "Here's one solution.\n",
    "\n",
    "```{code-block} python\n",
    "def factorial(n):\n",
    "    k = 1\n",
    "    for i in range(n):\n",
    "        k = k * (i + 1)\n",
    "    return k\n",
    "\n",
    "factorial(4)\n",
    "```\n",
    "````"
   ]
  },
  {
   "cell_type": "markdown",
   "id": "bf2427cd",
   "metadata": {},
   "source": [
    "## Tabs, Grids, and Cards\n",
    "\n",
    "See the [docs](https://mystmd.org/guide/dropdowns-cards-and-tabs)\n",
    "\n",
    "````{tab-set}\n",
    "```{tab-item} Tab 1\n",
    ":sync: tab1\n",
    "Tab one can sync (see below)!\n",
    "```\n",
    "```{tab-item} Tab 2\n",
    ":sync: tab2\n",
    "Tab two\n",
    "```\n",
    "````\n",
    "\n",
    "These tabs are set to sync:\n",
    "\n",
    "````{tab-set}\n",
    "```{tab-item} Tab 1 - Sync!\n",
    ":sync: tab1\n",
    "Tab one can sync!\n",
    "```\n",
    "```{tab-item} Tab 2\n",
    ":sync: tab2\n",
    "Tab two\n",
    "```\n",
    "````\n",
    "\n",
    "\n",
    "::::{grid} 1 1 2 3\n",
    "\n",
    ":::{card}\n",
    ":header: Text content ✏️\n",
    "Structure books with text files and Jupyter Notebooks with minimal configuration.\n",
    ":::\n",
    "\n",
    ":::{grid-item-card}\n",
    ":header: MyST Markdown ✨\n",
    "Write MyST Markdown to create enriched documents with publication-quality features.\n",
    ":::\n",
    "\n",
    ":::{grid-item-card}\n",
    ":header: Executable content 🔁\n",
    "Execute notebook cells, store results, and insert outputs across pages.\n",
    ":::\n",
    "::::\n",
    "\n",
    ":::{card}\n",
    ":header: MyST Markdown 🚀\n",
    ":link: https://mystmd.org\n",
    "Write content in JupyterLab!\n",
    ":::"
   ]
  }
 ],
 "metadata": {
  "jupytext": {
   "text_representation": {
    "extension": ".md",
    "format_name": "myst",
    "format_version": 0.13,
    "jupytext_version": "1.16.2"
   }
  },
  "kernelspec": {
   "display_name": "Python 3 (ipykernel)",
   "language": "python",
   "name": "python3"
  },
  "language_info": {
   "codemirror_mode": {
    "name": "ipython",
    "version": 3
   },
   "file_extension": ".py",
   "mimetype": "text/x-python",
   "name": "python",
   "nbconvert_exporter": "python",
   "pygments_lexer": "ipython3",
   "version": "3.12.3"
  },
  "source_map": [
   12,
   41,
   52,
   73,
   81,
   90,
   102,
   112,
   128,
   135,
   145,
   168,
   180,
   202,
   214,
   230,
   241,
   260,
   277,
   312
  ]
 },
 "nbformat": 4,
 "nbformat_minor": 5
}